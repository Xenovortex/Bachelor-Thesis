{
 "cells": [
  {
   "cell_type": "code",
   "execution_count": 1,
   "metadata": {
    "collapsed": true
   },
   "outputs": [],
   "source": [
    "from architecture import INN as INN\n",
    "from architecture import MNIST_autoencoder as mnist\n",
    "from architecture import CIFAR_autoencoder as cifar\n",
    "from architecture import CelebA_autoencoder as celeba\n",
    "from functionalities import parameter_counter as count\n",
    "\n",
    "from torch import nn"
   ]
  },
  {
   "cell_type": "code",
   "execution_count": 5,
   "metadata": {},
   "outputs": [
    {
     "name": "stdout",
     "output_type": "stream",
     "text": [
      "min: 485137\n",
      "optimal: 486556\n",
      "max: 586144\n"
     ]
    }
   ],
   "source": [
    "mnist_model = mnist.mnist_autoencoder(1)\n",
    "print('min:', count.count_para(mnist_model))\n",
    "\n",
    "mnist_model = mnist.mnist_autoencoder(12)\n",
    "print('optimal:', count.count_para(mnist_model))\n",
    "\n",
    "mnist_model = mnist.mnist_autoencoder(28*28)\n",
    "print('max:', count.count_para(mnist_model))"
   ]
  },
  {
   "cell_type": "code",
   "execution_count": 7,
   "metadata": {},
   "outputs": [
    {
     "name": "stdout",
     "output_type": "stream",
     "text": [
      "min: 2904996\n",
      "optimal: 6582579\n",
      "max: 31210403\n"
     ]
    }
   ],
   "source": [
    "cifar_model = cifar.cifar_autoencoder(1)\n",
    "print('min:', count.count_para(cifar_model))\n",
    "\n",
    "cifar_model = cifar.cifar_autoencoder(400)\n",
    "print('optimal:', count.count_para(cifar_model))\n",
    "\n",
    "cifar_model = cifar.cifar_autoencoder(3*32*32)\n",
    "print('max:', count.count_para(cifar_model))"
   ]
  },
  {
   "cell_type": "code",
   "execution_count": 9,
   "metadata": {},
   "outputs": [
    {
     "name": "stdout",
     "output_type": "stream",
     "text": [
      "min: 45171524\n",
      "opt: 52520047\n",
      "max: 2906204671\n"
     ]
    }
   ],
   "source": [
    "celeba_model = celeba.celeba_autoencoder(1)\n",
    "print('min:', count.count_para(celeba_model))\n",
    "\n",
    "celeba_model = celeba.celeba_autoencoder(300)\n",
    "print('opt:', count.count_para(celeba_model))\n",
    "\n",
    "celeba_model = celeba.celeba_autoencoder(3*218*178)\n",
    "print('max:', count.count_para(celeba_model))"
   ]
  },
  {
   "cell_type": "code",
   "execution_count": 2,
   "metadata": {},
   "outputs": [
    {
     "name": "stdout",
     "output_type": "stream",
     "text": [
      "Node r1 has following input dimensions:\n",
      "\t Output #0 of node input: (1, 28, 28)\n",
      "\n",
      "Node conv1 has following input dimensions:\n",
      "\t Output #0 of node r1: (4, 14, 14)\n",
      "\n",
      "Node conv2 has following input dimensions:\n",
      "\t Output #0 of node conv1: (4, 14, 14)\n",
      "\n",
      "Node conv3 has following input dimensions:\n",
      "\t Output #0 of node conv2: (4, 14, 14)\n",
      "\n",
      "Node r2 has following input dimensions:\n",
      "\t Output #0 of node conv3: (4, 14, 14)\n",
      "\n",
      "internal_size: 200\n",
      "internal_size: 200\n",
      "internal_size: 200\n",
      "internal_size: 200\n",
      "Node fc has following input dimensions:\n",
      "\t Output #0 of node r2: (784,)\n",
      "\n",
      "Node r3 has following input dimensions:\n",
      "\t Output #0 of node fc: (784,)\n",
      "\n",
      "Node r4 has following input dimensions:\n",
      "\t Output #0 of node r3: (4, 14, 14)\n",
      "\n",
      "Node output has following input dimensions:\n",
      "\t Output #0 of node r4: (1, 28, 28)\n",
      "\n",
      "1183992\n"
     ]
    }
   ],
   "source": [
    "mnist_inn_model = INN.mnist_inn_com()\n",
    "print(count.count_para(mnist_inn_model))\n",
    "\n",
    "#mnist_inn_model = INN.mnist_inn_com(784)\n",
    "#print('max:', count.count_para(mnist_inn_model))\n",
    "\n",
    "#INN: 545992\n",
    "#\n",
    "#min: 485137\n",
    "#max: 586144"
   ]
  },
  {
   "cell_type": "code",
   "execution_count": 2,
   "metadata": {},
   "outputs": [
    {
     "name": "stdout",
     "output_type": "stream",
     "text": [
      "Node r1 has following input dimensions:\n",
      "\t Output #0 of node input: (3, 32, 32)\n",
      "\n",
      "Node conv1 has following input dimensions:\n",
      "\t Output #0 of node r1: (12, 16, 16)\n",
      "\n",
      "Node conv2 has following input dimensions:\n",
      "\t Output #0 of node conv1: (12, 16, 16)\n",
      "\n",
      "Node conv3 has following input dimensions:\n",
      "\t Output #0 of node conv2: (12, 16, 16)\n",
      "\n",
      "Node r2 has following input dimensions:\n",
      "\t Output #0 of node conv3: (12, 16, 16)\n",
      "\n",
      "internal_size: 500\n",
      "internal_size: 500\n",
      "internal_size: 500\n",
      "internal_size: 500\n",
      "Node fc has following input dimensions:\n",
      "\t Output #0 of node r2: (3072,)\n",
      "\n",
      "Node r3 has following input dimensions:\n",
      "\t Output #0 of node fc: (3072,)\n",
      "\n",
      "Node r4 has following input dimensions:\n",
      "\t Output #0 of node r3: (48, 8, 8)\n",
      "\n",
      "Node output has following input dimensions:\n",
      "\t Output #0 of node r4: (12, 16, 16)\n",
      "\n",
      "7089176\n"
     ]
    }
   ],
   "source": [
    "cifar_inn_model = INN.cifar_inn_com()\n",
    "print(count.count_para(cifar_inn_model))\n",
    "\n",
    "# INN: 7089176\n",
    "# min: 2904996\n",
    "# max: 31210403"
   ]
  },
  {
   "cell_type": "code",
   "execution_count": 2,
   "metadata": {},
   "outputs": [
    {
     "name": "stdout",
     "output_type": "stream",
     "text": [
      "Node r1 has following input dimensions:\n",
      "\t Output #0 of node input: (3, 156, 128)\n",
      "\n",
      "Node conv11 has following input dimensions:\n",
      "\t Output #0 of node r1: (12, 78, 64)\n",
      "\n",
      "Node conv12 has following input dimensions:\n",
      "\t Output #0 of node conv11: (12, 78, 64)\n",
      "\n",
      "Node conv13 has following input dimensions:\n",
      "\t Output #0 of node conv12: (12, 78, 64)\n",
      "\n",
      "Node r2 has following input dimensions:\n",
      "\t Output #0 of node conv13: (12, 78, 64)\n",
      "\n",
      "Node conv21 has following input dimensions:\n",
      "\t Output #0 of node r2: (48, 39, 32)\n",
      "\n",
      "Node conv22 has following input dimensions:\n",
      "\t Output #0 of node conv21: (48, 39, 32)\n",
      "\n",
      "Node conv23 has following input dimensions:\n",
      "\t Output #0 of node conv22: (48, 39, 32)\n",
      "\n",
      "Node r3 has following input dimensions:\n",
      "\t Output #0 of node conv23: (48, 39, 32)\n",
      "\n",
      "internal_size: 200\n",
      "internal_size: 200\n",
      "internal_size: 200\n",
      "internal_size: 200\n",
      "Node fc has following input dimensions:\n",
      "\t Output #0 of node r3: (59904,)\n",
      "\n",
      "Node r4 has following input dimensions:\n",
      "\t Output #0 of node fc: (59904,)\n",
      "\n",
      "Node r5 has following input dimensions:\n",
      "\t Output #0 of node r4: (48, 39, 32)\n",
      "\n",
      "Node r6 has following input dimensions:\n",
      "\t Output #0 of node r5: (12, 78, 64)\n",
      "\n",
      "Node output has following input dimensions:\n",
      "\t Output #0 of node r6: (3, 156, 128)\n",
      "\n",
      "50070152\n"
     ]
    }
   ],
   "source": [
    "celeba_inn_model = INN.celeba_inn_com()\n",
    "print(count.count_para(celeba_inn_model))\n",
    "\n",
    "# INN: 7179244392\n",
    "#      74032152\n",
    "# min: 45171524\n",
    "# opt: 52520047\n",
    "# max: 2906204671\n"
   ]
  },
  {
   "cell_type": "markdown",
   "metadata": {},
   "source": [
    "# Notiz\n",
    "\n",
    "MNIST INN Autoencoder: 471576 Parameter \n",
    "\n",
    "MNIST Autoencoder: 485137 Parameter (Minimum)\n",
    "                   586144 Parameter (Maximum)\n",
    "\n",
    "CIFAR INN Autoencoder: 118558416 Parameter\n",
    "\n",
    "CIFAR Autoencoder: 2904996 Parameter (Minimum)\n",
    "                   31210403 Parameter (Maximum)\n",
    "                   \n"
   ]
  },
  {
   "cell_type": "code",
   "execution_count": 12,
   "metadata": {},
   "outputs": [
    {
     "name": "stdout",
     "output_type": "stream",
     "text": [
      "286047\n"
     ]
    }
   ],
   "source": [
    "model = autoencoder(60)\n",
    "print(count.count_para(model))"
   ]
  },
  {
   "cell_type": "code",
   "execution_count": null,
   "metadata": {
    "collapsed": true
   },
   "outputs": [],
   "source": [
    "117664104 (fully)\n",
    "42142056 (small)\n",
    "4393324 (min inn)\n",
    "42142056 (max inn)\n",
    "2904996 (min)\n",
    "31210403 (max)"
   ]
  },
  {
   "cell_type": "code",
   "execution_count": null,
   "metadata": {
    "collapsed": true
   },
   "outputs": [],
   "source": []
  }
 ],
 "metadata": {
  "kernelspec": {
   "display_name": "Python 3",
   "language": "python",
   "name": "python3"
  },
  "language_info": {
   "codemirror_mode": {
    "name": "ipython",
    "version": 3
   },
   "file_extension": ".py",
   "mimetype": "text/x-python",
   "name": "python",
   "nbconvert_exporter": "python",
   "pygments_lexer": "ipython3",
   "version": "3.6.5"
  }
 },
 "nbformat": 4,
 "nbformat_minor": 2
}
