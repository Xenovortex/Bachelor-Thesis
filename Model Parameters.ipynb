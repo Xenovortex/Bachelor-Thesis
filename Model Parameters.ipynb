{
 "cells": [
  {
   "cell_type": "code",
   "execution_count": 1,
   "metadata": {},
   "outputs": [],
   "source": [
    "from architecture import INN as INN\n",
    "from architecture import MNIST_autoencoder as mnist\n",
    "from architecture import CIFAR_autoencoder as cifar\n",
    "from architecture import CelebA_autoencoder as celeba\n",
    "from functionalities import parameter_counter as count\n",
    "from torch import nn"
   ]
  },
  {
   "cell_type": "code",
   "execution_count": 2,
   "metadata": {},
   "outputs": [
    {
     "name": "stdout",
     "output_type": "stream",
     "text": [
      "min: 485137\n",
      "max: 586144\n"
     ]
    }
   ],
   "source": [
    "mnist_model = mnist.mnist_autoencoder(1)\n",
    "print('min:', count.count_para(mnist_model))\n",
    "\n",
    "mnist_model = mnist.mnist_autoencoder(28*28)\n",
    "print('max:', count.count_para(mnist_model))\n",
    "\n",
    "2934904\n",
    "5861"
   ]
  },
  {
   "cell_type": "code",
   "execution_count": 3,
   "metadata": {},
   "outputs": [
    {
     "name": "stdout",
     "output_type": "stream",
     "text": [
      "min: 2904996\n",
      "max: 31210403\n"
     ]
    }
   ],
   "source": [
    "cifar_model = cifar.cifar_autoencoder(1)\n",
    "print('min:', count.count_para(cifar_model))\n",
    "\n",
    "cifar_model = cifar.cifar_autoencoder(3*32*32)\n",
    "print('max:', count.count_para(cifar_model))"
   ]
  },
  {
   "cell_type": "code",
   "execution_count": 4,
   "metadata": {},
   "outputs": [
    {
     "name": "stdout",
     "output_type": "stream",
     "text": [
      "min: 45171524\n"
     ]
    },
    {
     "ename": "RuntimeError",
     "evalue": "$ Torch: not enough memory: you tried to allocate 5GB. Buy new RAM! at /opt/conda/conda-bld/pytorch-cpu_1532576596369/work/aten/src/TH/THGeneral.cpp:204",
     "output_type": "error",
     "traceback": [
      "\u001b[0;31m---------------------------------------------------------------------------\u001b[0m",
      "\u001b[0;31mRuntimeError\u001b[0m                              Traceback (most recent call last)",
      "\u001b[0;32m<ipython-input-4-b47aea82afa0>\u001b[0m in \u001b[0;36m<module>\u001b[0;34m()\u001b[0m\n\u001b[1;32m      2\u001b[0m \u001b[0mprint\u001b[0m\u001b[0;34m(\u001b[0m\u001b[0;34m'min:'\u001b[0m\u001b[0;34m,\u001b[0m \u001b[0mcount\u001b[0m\u001b[0;34m.\u001b[0m\u001b[0mcount_para\u001b[0m\u001b[0;34m(\u001b[0m\u001b[0mceleba_model\u001b[0m\u001b[0;34m)\u001b[0m\u001b[0;34m)\u001b[0m\u001b[0;34m\u001b[0m\u001b[0m\n\u001b[1;32m      3\u001b[0m \u001b[0;34m\u001b[0m\u001b[0m\n\u001b[0;32m----> 4\u001b[0;31m \u001b[0mceleba_model\u001b[0m \u001b[0;34m=\u001b[0m \u001b[0mceleba\u001b[0m\u001b[0;34m.\u001b[0m\u001b[0mceleba_autoencoder\u001b[0m\u001b[0;34m(\u001b[0m\u001b[0;36m3\u001b[0m\u001b[0;34m*\u001b[0m\u001b[0;36m218\u001b[0m\u001b[0;34m*\u001b[0m\u001b[0;36m178\u001b[0m\u001b[0;34m)\u001b[0m\u001b[0;34m\u001b[0m\u001b[0m\n\u001b[0m\u001b[1;32m      5\u001b[0m \u001b[0mprint\u001b[0m\u001b[0;34m(\u001b[0m\u001b[0;34m'max:'\u001b[0m\u001b[0;34m,\u001b[0m \u001b[0mcount\u001b[0m\u001b[0;34m.\u001b[0m\u001b[0mcount_para\u001b[0m\u001b[0;34m(\u001b[0m\u001b[0mceleba_model\u001b[0m\u001b[0;34m)\u001b[0m\u001b[0;34m)\u001b[0m\u001b[0;34m\u001b[0m\u001b[0m\n",
      "\u001b[0;32m~/Workspace/FrEIA/architecture/CelebA_autoencoder.py\u001b[0m in \u001b[0;36m__init__\u001b[0;34m(self, bottleneck)\u001b[0m\n\u001b[1;32m     14\u001b[0m         \u001b[0mself\u001b[0m\u001b[0;34m.\u001b[0m\u001b[0me5\u001b[0m \u001b[0;34m=\u001b[0m \u001b[0mnn\u001b[0m\u001b[0;34m.\u001b[0m\u001b[0mConv2d\u001b[0m\u001b[0;34m(\u001b[0m\u001b[0;36m128\u001b[0m\u001b[0;34m*\u001b[0m\u001b[0;36m4\u001b[0m\u001b[0;34m,\u001b[0m \u001b[0;36m128\u001b[0m\u001b[0;34m*\u001b[0m\u001b[0;36m8\u001b[0m\u001b[0;34m,\u001b[0m \u001b[0;36m4\u001b[0m\u001b[0;34m,\u001b[0m \u001b[0mstride\u001b[0m\u001b[0;34m=\u001b[0m\u001b[0;36m2\u001b[0m\u001b[0;34m,\u001b[0m \u001b[0mpadding\u001b[0m\u001b[0;34m=\u001b[0m\u001b[0;36m0\u001b[0m\u001b[0;34m)\u001b[0m  \u001b[0;31m# b, 1024, 5, 4\u001b[0m\u001b[0;34m\u001b[0m\u001b[0m\n\u001b[1;32m     15\u001b[0m         \u001b[0mself\u001b[0m\u001b[0;34m.\u001b[0m\u001b[0me6\u001b[0m \u001b[0;34m=\u001b[0m \u001b[0mnn\u001b[0m\u001b[0;34m.\u001b[0m\u001b[0mConv2d\u001b[0m\u001b[0;34m(\u001b[0m\u001b[0;36m128\u001b[0m\u001b[0;34m*\u001b[0m\u001b[0;36m8\u001b[0m\u001b[0;34m,\u001b[0m \u001b[0;36m128\u001b[0m\u001b[0;34m*\u001b[0m\u001b[0;36m8\u001b[0m\u001b[0;34m,\u001b[0m \u001b[0;36m4\u001b[0m\u001b[0;34m,\u001b[0m \u001b[0mstride\u001b[0m\u001b[0;34m=\u001b[0m\u001b[0;36m1\u001b[0m\u001b[0;34m,\u001b[0m \u001b[0mpadding\u001b[0m\u001b[0;34m=\u001b[0m\u001b[0;36m1\u001b[0m\u001b[0;34m)\u001b[0m  \u001b[0;31m# b, 1024, 4, 3\u001b[0m\u001b[0;34m\u001b[0m\u001b[0m\n\u001b[0;32m---> 16\u001b[0;31m         \u001b[0mself\u001b[0m\u001b[0;34m.\u001b[0m\u001b[0me7\u001b[0m \u001b[0;34m=\u001b[0m \u001b[0mnn\u001b[0m\u001b[0;34m.\u001b[0m\u001b[0mLinear\u001b[0m\u001b[0;34m(\u001b[0m\u001b[0;36m128\u001b[0m\u001b[0;34m*\u001b[0m\u001b[0;36m8\u001b[0m\u001b[0;34m*\u001b[0m\u001b[0;36m4\u001b[0m\u001b[0;34m*\u001b[0m\u001b[0;36m3\u001b[0m\u001b[0;34m,\u001b[0m \u001b[0mbottleneck\u001b[0m\u001b[0;34m)\u001b[0m  \u001b[0;31m# bottleneck\u001b[0m\u001b[0;34m\u001b[0m\u001b[0m\n\u001b[0m\u001b[1;32m     17\u001b[0m \u001b[0;34m\u001b[0m\u001b[0m\n\u001b[1;32m     18\u001b[0m         \u001b[0;31m# decoder\u001b[0m\u001b[0;34m\u001b[0m\u001b[0;34m\u001b[0m\u001b[0m\n",
      "\u001b[0;32m~/anaconda3/lib/python3.6/site-packages/torch/nn/modules/linear.py\u001b[0m in \u001b[0;36m__init__\u001b[0;34m(self, in_features, out_features, bias)\u001b[0m\n\u001b[1;32m     39\u001b[0m         \u001b[0mself\u001b[0m\u001b[0;34m.\u001b[0m\u001b[0min_features\u001b[0m \u001b[0;34m=\u001b[0m \u001b[0min_features\u001b[0m\u001b[0;34m\u001b[0m\u001b[0m\n\u001b[1;32m     40\u001b[0m         \u001b[0mself\u001b[0m\u001b[0;34m.\u001b[0m\u001b[0mout_features\u001b[0m \u001b[0;34m=\u001b[0m \u001b[0mout_features\u001b[0m\u001b[0;34m\u001b[0m\u001b[0m\n\u001b[0;32m---> 41\u001b[0;31m         \u001b[0mself\u001b[0m\u001b[0;34m.\u001b[0m\u001b[0mweight\u001b[0m \u001b[0;34m=\u001b[0m \u001b[0mParameter\u001b[0m\u001b[0;34m(\u001b[0m\u001b[0mtorch\u001b[0m\u001b[0;34m.\u001b[0m\u001b[0mTensor\u001b[0m\u001b[0;34m(\u001b[0m\u001b[0mout_features\u001b[0m\u001b[0;34m,\u001b[0m \u001b[0min_features\u001b[0m\u001b[0;34m)\u001b[0m\u001b[0;34m)\u001b[0m\u001b[0;34m\u001b[0m\u001b[0m\n\u001b[0m\u001b[1;32m     42\u001b[0m         \u001b[0;32mif\u001b[0m \u001b[0mbias\u001b[0m\u001b[0;34m:\u001b[0m\u001b[0;34m\u001b[0m\u001b[0m\n\u001b[1;32m     43\u001b[0m             \u001b[0mself\u001b[0m\u001b[0;34m.\u001b[0m\u001b[0mbias\u001b[0m \u001b[0;34m=\u001b[0m \u001b[0mParameter\u001b[0m\u001b[0;34m(\u001b[0m\u001b[0mtorch\u001b[0m\u001b[0;34m.\u001b[0m\u001b[0mTensor\u001b[0m\u001b[0;34m(\u001b[0m\u001b[0mout_features\u001b[0m\u001b[0;34m)\u001b[0m\u001b[0;34m)\u001b[0m\u001b[0;34m\u001b[0m\u001b[0m\n",
      "\u001b[0;31mRuntimeError\u001b[0m: $ Torch: not enough memory: you tried to allocate 5GB. Buy new RAM! at /opt/conda/conda-bld/pytorch-cpu_1532576596369/work/aten/src/TH/THGeneral.cpp:204"
     ]
    }
   ],
   "source": [
    "celeba_model = celeba.celeba_autoencoder(1)\n",
    "print('min:', count.count_para(celeba_model))\n",
    "\n",
    "celeba_model = celeba.celeba_autoencoder(3*218*178)\n",
    "print('max:', count.count_para(celeba_model))"
   ]
  },
  {
   "cell_type": "code",
   "execution_count": 2,
   "metadata": {},
   "outputs": [
    {
     "name": "stdout",
     "output_type": "stream",
     "text": [
      "Node r1 has following input dimensions:\n",
      "\t Output #0 of node input: (1, 28, 28)\n",
      "\n",
      "Node conv1 has following input dimensions:\n",
      "\t Output #0 of node r1: (4, 14, 14)\n",
      "\n",
      "Node conv2 has following input dimensions:\n",
      "\t Output #0 of node conv1: (4, 14, 14)\n",
      "\n",
      "Node conv3 has following input dimensions:\n",
      "\t Output #0 of node conv2: (4, 14, 14)\n",
      "\n",
      "Node r2 has following input dimensions:\n",
      "\t Output #0 of node conv3: (4, 14, 14)\n",
      "\n",
      "Node output has following input dimensions:\n",
      "\t Output #0 of node r2: (1, 28, 28)\n",
      "\n",
      "242712\n"
     ]
    }
   ],
   "source": [
    "mnist_inn_model = INN.mnist_inn_com()\n",
    "print(count.count_para(mnist_inn_model))\n",
    "\n",
    "# 471576"
   ]
  },
  {
   "cell_type": "code",
   "execution_count": 2,
   "metadata": {},
   "outputs": [
    {
     "name": "stdout",
     "output_type": "stream",
     "text": [
      "Node r1 has following input dimensions:\n",
      "\t Output #0 of node input: (3, 32, 32)\n",
      "\n",
      "Node conv11 has following input dimensions:\n",
      "\t Output #0 of node r1: (12, 16, 16)\n",
      "\n",
      "Node conv12 has following input dimensions:\n",
      "\t Output #0 of node conv11: (12, 16, 16)\n",
      "\n",
      "Node conv13 has following input dimensions:\n",
      "\t Output #0 of node conv12: (12, 16, 16)\n",
      "\n",
      "Node r2 has following input dimensions:\n",
      "\t Output #0 of node conv13: (12, 16, 16)\n",
      "\n",
      "Node conv21 has following input dimensions:\n",
      "\t Output #0 of node r2: (48, 8, 8)\n",
      "\n",
      "Node conv22 has following input dimensions:\n",
      "\t Output #0 of node conv21: (48, 8, 8)\n",
      "\n",
      "Node conv23 has following input dimensions:\n",
      "\t Output #0 of node conv22: (48, 8, 8)\n",
      "\n",
      "Node r3 has following input dimensions:\n",
      "\t Output #0 of node conv23: (48, 8, 8)\n",
      "\n",
      "internal_size: 1\n",
      "internal_size: 1\n",
      "internal_size: 1\n",
      "internal_size: 1\n",
      "Node fc has following input dimensions:\n",
      "\t Output #0 of node r3: (3072,)\n",
      "\n",
      "Node r4 has following input dimensions:\n",
      "\t Output #0 of node fc: (3072,)\n",
      "\n",
      "Node r5 has following input dimensions:\n",
      "\t Output #0 of node r4: (48, 8, 8)\n",
      "\n",
      "Node r6 has following input dimensions:\n",
      "\t Output #0 of node r5: (12, 16, 16)\n",
      "\n",
      "Node output has following input dimensions:\n",
      "\t Output #0 of node r6: (3, 32, 32)\n",
      "\n",
      "min: 4393324\n",
      "Node r1 has following input dimensions:\n",
      "\t Output #0 of node input: (3, 32, 32)\n",
      "\n",
      "Node conv11 has following input dimensions:\n",
      "\t Output #0 of node r1: (12, 16, 16)\n",
      "\n",
      "Node conv12 has following input dimensions:\n",
      "\t Output #0 of node conv11: (12, 16, 16)\n",
      "\n",
      "Node conv13 has following input dimensions:\n",
      "\t Output #0 of node conv12: (12, 16, 16)\n",
      "\n",
      "Node r2 has following input dimensions:\n",
      "\t Output #0 of node conv13: (12, 16, 16)\n",
      "\n",
      "Node conv21 has following input dimensions:\n",
      "\t Output #0 of node r2: (48, 8, 8)\n",
      "\n",
      "Node conv22 has following input dimensions:\n",
      "\t Output #0 of node conv21: (48, 8, 8)\n",
      "\n",
      "Node conv23 has following input dimensions:\n",
      "\t Output #0 of node conv22: (48, 8, 8)\n",
      "\n",
      "Node r3 has following input dimensions:\n",
      "\t Output #0 of node conv23: (48, 8, 8)\n",
      "\n",
      "internal_size: 3072\n",
      "internal_size: 3072\n",
      "internal_size: 3072\n",
      "internal_size: 3072\n",
      "Node fc has following input dimensions:\n",
      "\t Output #0 of node r3: (3072,)\n",
      "\n",
      "Node r4 has following input dimensions:\n",
      "\t Output #0 of node fc: (3072,)\n",
      "\n",
      "Node r5 has following input dimensions:\n",
      "\t Output #0 of node r4: (48, 8, 8)\n",
      "\n",
      "Node r6 has following input dimensions:\n",
      "\t Output #0 of node r5: (12, 16, 16)\n",
      "\n",
      "Node output has following input dimensions:\n",
      "\t Output #0 of node r6: (3, 32, 32)\n",
      "\n",
      "max: 42142056\n"
     ]
    }
   ],
   "source": [
    "cifar_inn_model = INN.cifar_inn_com(1)\n",
    "print('min:', count.count_para(cifar_inn_model))\n",
    "\n",
    "cifar_inn_model = INN.cifar_inn_com(3*32*32)\n",
    "print('max:', count.count_para(cifar_inn_model))"
   ]
  },
  {
   "cell_type": "code",
   "execution_count": 2,
   "metadata": {},
   "outputs": [
    {
     "name": "stdout",
     "output_type": "stream",
     "text": [
      "Node r1 has following input dimensions:\n",
      "\t Output #0 of node input: (3, 218, 178)\n",
      "\n",
      "Node conv11 has following input dimensions:\n",
      "\t Output #0 of node r1: (12, 109, 89)\n",
      "\n",
      "Node conv12 has following input dimensions:\n",
      "\t Output #0 of node conv11: (12, 109, 89)\n",
      "\n",
      "Node conv13 has following input dimensions:\n",
      "\t Output #0 of node conv12: (12, 109, 89)\n",
      "\n",
      "Node r2 has following input dimensions:\n",
      "\t Output #0 of node conv13: (12, 109, 89)\n",
      "\n"
     ]
    },
    {
     "ename": "AssertionError",
     "evalue": "Uneven input dimensions",
     "output_type": "error",
     "traceback": [
      "\u001b[0;31m---------------------------------------------------------------------------\u001b[0m",
      "\u001b[0;31mAssertionError\u001b[0m                            Traceback (most recent call last)",
      "\u001b[0;32m<ipython-input-2-b6058bf2754d>\u001b[0m in \u001b[0;36m<module>\u001b[0;34m()\u001b[0m\n\u001b[0;32m----> 1\u001b[0;31m \u001b[0mceleba_inn_model\u001b[0m \u001b[0;34m=\u001b[0m \u001b[0mINN\u001b[0m\u001b[0;34m.\u001b[0m\u001b[0mceleba_inn_com\u001b[0m\u001b[0;34m(\u001b[0m\u001b[0;36m1\u001b[0m\u001b[0;34m)\u001b[0m\u001b[0;34m\u001b[0m\u001b[0m\n\u001b[0m\u001b[1;32m      2\u001b[0m \u001b[0mprint\u001b[0m\u001b[0;34m(\u001b[0m\u001b[0;34m'min:'\u001b[0m\u001b[0;34m,\u001b[0m \u001b[0mcount\u001b[0m\u001b[0;34m.\u001b[0m\u001b[0mcount_para\u001b[0m\u001b[0;34m(\u001b[0m\u001b[0mceleba_inn_model\u001b[0m\u001b[0;34m)\u001b[0m\u001b[0;34m)\u001b[0m\u001b[0;34m\u001b[0m\u001b[0m\n\u001b[1;32m      3\u001b[0m \u001b[0;34m\u001b[0m\u001b[0m\n\u001b[1;32m      4\u001b[0m \u001b[0mceleba_inn_model\u001b[0m \u001b[0;34m=\u001b[0m \u001b[0mINN\u001b[0m\u001b[0;34m.\u001b[0m\u001b[0mceleba_inn_com\u001b[0m\u001b[0;34m(\u001b[0m\u001b[0;36m3\u001b[0m\u001b[0;34m*\u001b[0m\u001b[0;36m32\u001b[0m\u001b[0;34m*\u001b[0m\u001b[0;36m32\u001b[0m\u001b[0;34m)\u001b[0m\u001b[0;34m\u001b[0m\u001b[0m\n\u001b[1;32m      5\u001b[0m \u001b[0mprint\u001b[0m\u001b[0;34m(\u001b[0m\u001b[0;34m'max:'\u001b[0m\u001b[0;34m,\u001b[0m \u001b[0mcount\u001b[0m\u001b[0;34m.\u001b[0m\u001b[0mcount_para\u001b[0m\u001b[0;34m(\u001b[0m\u001b[0mceleba_inn_model\u001b[0m\u001b[0;34m)\u001b[0m\u001b[0;34m)\u001b[0m\u001b[0;34m\u001b[0m\u001b[0m\n",
      "\u001b[0;32m~/Workspace/FrEIA/architecture/INN.py\u001b[0m in \u001b[0;36mceleba_inn_com\u001b[0;34m(latent_dim, mask_size, batch_norm)\u001b[0m\n\u001b[1;32m    162\u001b[0m     \u001b[0mnodes\u001b[0m \u001b[0;34m=\u001b[0m \u001b[0;34m[\u001b[0m\u001b[0minp\u001b[0m\u001b[0;34m,\u001b[0m \u001b[0moutp\u001b[0m\u001b[0;34m,\u001b[0m \u001b[0mconv11\u001b[0m\u001b[0;34m,\u001b[0m \u001b[0mconv12\u001b[0m\u001b[0;34m,\u001b[0m \u001b[0mconv13\u001b[0m\u001b[0;34m,\u001b[0m \u001b[0mconv21\u001b[0m\u001b[0;34m,\u001b[0m \u001b[0mconv22\u001b[0m\u001b[0;34m,\u001b[0m \u001b[0mconv23\u001b[0m\u001b[0;34m,\u001b[0m \u001b[0mfc\u001b[0m\u001b[0;34m,\u001b[0m \u001b[0mr1\u001b[0m\u001b[0;34m,\u001b[0m \u001b[0mr2\u001b[0m\u001b[0;34m,\u001b[0m \u001b[0mr3\u001b[0m\u001b[0;34m,\u001b[0m \u001b[0mr4\u001b[0m\u001b[0;34m,\u001b[0m \u001b[0mr5\u001b[0m\u001b[0;34m,\u001b[0m \u001b[0mr6\u001b[0m\u001b[0;34m]\u001b[0m\u001b[0;34m\u001b[0m\u001b[0m\n\u001b[1;32m    163\u001b[0m \u001b[0;34m\u001b[0m\u001b[0m\n\u001b[0;32m--> 164\u001b[0;31m     \u001b[0mcoder\u001b[0m \u001b[0;34m=\u001b[0m \u001b[0mfr\u001b[0m\u001b[0;34m.\u001b[0m\u001b[0mReversibleGraphNet\u001b[0m\u001b[0;34m(\u001b[0m\u001b[0mnodes\u001b[0m\u001b[0;34m,\u001b[0m \u001b[0;36m0\u001b[0m\u001b[0;34m,\u001b[0m \u001b[0;36m1\u001b[0m\u001b[0;34m)\u001b[0m\u001b[0;34m\u001b[0m\u001b[0m\n\u001b[0m\u001b[1;32m    165\u001b[0m \u001b[0;34m\u001b[0m\u001b[0m\n\u001b[1;32m    166\u001b[0m     \u001b[0;32mreturn\u001b[0m \u001b[0mcoder\u001b[0m\u001b[0;34m\u001b[0m\u001b[0m\n",
      "\u001b[0;32m~/Workspace/FrEIA/FrEIA/framework.py\u001b[0m in \u001b[0;36m__init__\u001b[0;34m(self, node_list, ind_in, ind_out, verbose)\u001b[0m\n\u001b[1;32m    198\u001b[0m         \u001b[0mops\u001b[0m \u001b[0;34m=\u001b[0m \u001b[0;34m[\u001b[0m\u001b[0;34m]\u001b[0m\u001b[0;34m\u001b[0m\u001b[0m\n\u001b[1;32m    199\u001b[0m         \u001b[0;32mfor\u001b[0m \u001b[0mi\u001b[0m \u001b[0;32min\u001b[0m \u001b[0mself\u001b[0m\u001b[0;34m.\u001b[0m\u001b[0mind_out\u001b[0m\u001b[0;34m:\u001b[0m\u001b[0;34m\u001b[0m\u001b[0m\n\u001b[0;32m--> 200\u001b[0;31m             \u001b[0mnode_list\u001b[0m\u001b[0;34m[\u001b[0m\u001b[0mi\u001b[0m\u001b[0;34m]\u001b[0m\u001b[0;34m.\u001b[0m\u001b[0mbuild_modules\u001b[0m\u001b[0;34m(\u001b[0m\u001b[0mverbose\u001b[0m\u001b[0;34m=\u001b[0m\u001b[0mverbose\u001b[0m\u001b[0;34m)\u001b[0m\u001b[0;34m\u001b[0m\u001b[0m\n\u001b[0m\u001b[1;32m    201\u001b[0m             \u001b[0mnode_list\u001b[0m\u001b[0;34m[\u001b[0m\u001b[0mi\u001b[0m\u001b[0;34m]\u001b[0m\u001b[0;34m.\u001b[0m\u001b[0mrun_forward\u001b[0m\u001b[0;34m(\u001b[0m\u001b[0mops\u001b[0m\u001b[0;34m)\u001b[0m\u001b[0;34m\u001b[0m\u001b[0m\n\u001b[1;32m    202\u001b[0m \u001b[0;34m\u001b[0m\u001b[0m\n",
      "\u001b[0;32m~/Workspace/FrEIA/FrEIA/framework.py\u001b[0m in \u001b[0;36mbuild_modules\u001b[0;34m(self, verbose)\u001b[0m\n\u001b[1;32m     38\u001b[0m         \u001b[0;32mif\u001b[0m \u001b[0;32mnot\u001b[0m \u001b[0mself\u001b[0m\u001b[0;34m.\u001b[0m\u001b[0minput_dims\u001b[0m\u001b[0;34m:\u001b[0m  \u001b[0;31m# Only do it if this hasn't been computed yet\u001b[0m\u001b[0;34m\u001b[0m\u001b[0m\n\u001b[1;32m     39\u001b[0m             self.input_dims = [n.build_modules(verbose=verbose)[c]\n\u001b[0;32m---> 40\u001b[0;31m                                for n, c in self.inputs]\n\u001b[0m\u001b[1;32m     41\u001b[0m             \u001b[0;32mtry\u001b[0m\u001b[0;34m:\u001b[0m\u001b[0;34m\u001b[0m\u001b[0m\n\u001b[1;32m     42\u001b[0m                 self.module = self.module_type(self.input_dims,\n",
      "\u001b[0;32m~/Workspace/FrEIA/FrEIA/framework.py\u001b[0m in \u001b[0;36m<listcomp>\u001b[0;34m(.0)\u001b[0m\n\u001b[1;32m     38\u001b[0m         \u001b[0;32mif\u001b[0m \u001b[0;32mnot\u001b[0m \u001b[0mself\u001b[0m\u001b[0;34m.\u001b[0m\u001b[0minput_dims\u001b[0m\u001b[0;34m:\u001b[0m  \u001b[0;31m# Only do it if this hasn't been computed yet\u001b[0m\u001b[0;34m\u001b[0m\u001b[0m\n\u001b[1;32m     39\u001b[0m             self.input_dims = [n.build_modules(verbose=verbose)[c]\n\u001b[0;32m---> 40\u001b[0;31m                                for n, c in self.inputs]\n\u001b[0m\u001b[1;32m     41\u001b[0m             \u001b[0;32mtry\u001b[0m\u001b[0;34m:\u001b[0m\u001b[0;34m\u001b[0m\u001b[0m\n\u001b[1;32m     42\u001b[0m                 self.module = self.module_type(self.input_dims,\n",
      "\u001b[0;32m~/Workspace/FrEIA/FrEIA/framework.py\u001b[0m in \u001b[0;36mbuild_modules\u001b[0;34m(self, verbose)\u001b[0m\n\u001b[1;32m     38\u001b[0m         \u001b[0;32mif\u001b[0m \u001b[0;32mnot\u001b[0m \u001b[0mself\u001b[0m\u001b[0;34m.\u001b[0m\u001b[0minput_dims\u001b[0m\u001b[0;34m:\u001b[0m  \u001b[0;31m# Only do it if this hasn't been computed yet\u001b[0m\u001b[0;34m\u001b[0m\u001b[0m\n\u001b[1;32m     39\u001b[0m             self.input_dims = [n.build_modules(verbose=verbose)[c]\n\u001b[0;32m---> 40\u001b[0;31m                                for n, c in self.inputs]\n\u001b[0m\u001b[1;32m     41\u001b[0m             \u001b[0;32mtry\u001b[0m\u001b[0;34m:\u001b[0m\u001b[0;34m\u001b[0m\u001b[0m\n\u001b[1;32m     42\u001b[0m                 self.module = self.module_type(self.input_dims,\n",
      "\u001b[0;32m~/Workspace/FrEIA/FrEIA/framework.py\u001b[0m in \u001b[0;36m<listcomp>\u001b[0;34m(.0)\u001b[0m\n\u001b[1;32m     38\u001b[0m         \u001b[0;32mif\u001b[0m \u001b[0;32mnot\u001b[0m \u001b[0mself\u001b[0m\u001b[0;34m.\u001b[0m\u001b[0minput_dims\u001b[0m\u001b[0;34m:\u001b[0m  \u001b[0;31m# Only do it if this hasn't been computed yet\u001b[0m\u001b[0;34m\u001b[0m\u001b[0m\n\u001b[1;32m     39\u001b[0m             self.input_dims = [n.build_modules(verbose=verbose)[c]\n\u001b[0;32m---> 40\u001b[0;31m                                for n, c in self.inputs]\n\u001b[0m\u001b[1;32m     41\u001b[0m             \u001b[0;32mtry\u001b[0m\u001b[0;34m:\u001b[0m\u001b[0;34m\u001b[0m\u001b[0m\n\u001b[1;32m     42\u001b[0m                 self.module = self.module_type(self.input_dims,\n",
      "\u001b[0;32m~/Workspace/FrEIA/FrEIA/framework.py\u001b[0m in \u001b[0;36mbuild_modules\u001b[0;34m(self, verbose)\u001b[0m\n\u001b[1;32m     38\u001b[0m         \u001b[0;32mif\u001b[0m \u001b[0;32mnot\u001b[0m \u001b[0mself\u001b[0m\u001b[0;34m.\u001b[0m\u001b[0minput_dims\u001b[0m\u001b[0;34m:\u001b[0m  \u001b[0;31m# Only do it if this hasn't been computed yet\u001b[0m\u001b[0;34m\u001b[0m\u001b[0m\n\u001b[1;32m     39\u001b[0m             self.input_dims = [n.build_modules(verbose=verbose)[c]\n\u001b[0;32m---> 40\u001b[0;31m                                for n, c in self.inputs]\n\u001b[0m\u001b[1;32m     41\u001b[0m             \u001b[0;32mtry\u001b[0m\u001b[0;34m:\u001b[0m\u001b[0;34m\u001b[0m\u001b[0m\n\u001b[1;32m     42\u001b[0m                 self.module = self.module_type(self.input_dims,\n",
      "\u001b[0;32m~/Workspace/FrEIA/FrEIA/framework.py\u001b[0m in \u001b[0;36m<listcomp>\u001b[0;34m(.0)\u001b[0m\n\u001b[1;32m     38\u001b[0m         \u001b[0;32mif\u001b[0m \u001b[0;32mnot\u001b[0m \u001b[0mself\u001b[0m\u001b[0;34m.\u001b[0m\u001b[0minput_dims\u001b[0m\u001b[0;34m:\u001b[0m  \u001b[0;31m# Only do it if this hasn't been computed yet\u001b[0m\u001b[0;34m\u001b[0m\u001b[0m\n\u001b[1;32m     39\u001b[0m             self.input_dims = [n.build_modules(verbose=verbose)[c]\n\u001b[0;32m---> 40\u001b[0;31m                                for n, c in self.inputs]\n\u001b[0m\u001b[1;32m     41\u001b[0m             \u001b[0;32mtry\u001b[0m\u001b[0;34m:\u001b[0m\u001b[0;34m\u001b[0m\u001b[0m\n\u001b[1;32m     42\u001b[0m                 self.module = self.module_type(self.input_dims,\n",
      "\u001b[0;32m~/Workspace/FrEIA/FrEIA/framework.py\u001b[0m in \u001b[0;36mbuild_modules\u001b[0;34m(self, verbose)\u001b[0m\n\u001b[1;32m     38\u001b[0m         \u001b[0;32mif\u001b[0m \u001b[0;32mnot\u001b[0m \u001b[0mself\u001b[0m\u001b[0;34m.\u001b[0m\u001b[0minput_dims\u001b[0m\u001b[0;34m:\u001b[0m  \u001b[0;31m# Only do it if this hasn't been computed yet\u001b[0m\u001b[0;34m\u001b[0m\u001b[0m\n\u001b[1;32m     39\u001b[0m             self.input_dims = [n.build_modules(verbose=verbose)[c]\n\u001b[0;32m---> 40\u001b[0;31m                                for n, c in self.inputs]\n\u001b[0m\u001b[1;32m     41\u001b[0m             \u001b[0;32mtry\u001b[0m\u001b[0;34m:\u001b[0m\u001b[0;34m\u001b[0m\u001b[0m\n\u001b[1;32m     42\u001b[0m                 self.module = self.module_type(self.input_dims,\n",
      "\u001b[0;32m~/Workspace/FrEIA/FrEIA/framework.py\u001b[0m in \u001b[0;36m<listcomp>\u001b[0;34m(.0)\u001b[0m\n\u001b[1;32m     38\u001b[0m         \u001b[0;32mif\u001b[0m \u001b[0;32mnot\u001b[0m \u001b[0mself\u001b[0m\u001b[0;34m.\u001b[0m\u001b[0minput_dims\u001b[0m\u001b[0;34m:\u001b[0m  \u001b[0;31m# Only do it if this hasn't been computed yet\u001b[0m\u001b[0;34m\u001b[0m\u001b[0m\n\u001b[1;32m     39\u001b[0m             self.input_dims = [n.build_modules(verbose=verbose)[c]\n\u001b[0;32m---> 40\u001b[0;31m                                for n, c in self.inputs]\n\u001b[0m\u001b[1;32m     41\u001b[0m             \u001b[0;32mtry\u001b[0m\u001b[0;34m:\u001b[0m\u001b[0;34m\u001b[0m\u001b[0m\n\u001b[1;32m     42\u001b[0m                 self.module = self.module_type(self.input_dims,\n",
      "\u001b[0;32m~/Workspace/FrEIA/FrEIA/framework.py\u001b[0m in \u001b[0;36mbuild_modules\u001b[0;34m(self, verbose)\u001b[0m\n\u001b[1;32m     38\u001b[0m         \u001b[0;32mif\u001b[0m \u001b[0;32mnot\u001b[0m \u001b[0mself\u001b[0m\u001b[0;34m.\u001b[0m\u001b[0minput_dims\u001b[0m\u001b[0;34m:\u001b[0m  \u001b[0;31m# Only do it if this hasn't been computed yet\u001b[0m\u001b[0;34m\u001b[0m\u001b[0m\n\u001b[1;32m     39\u001b[0m             self.input_dims = [n.build_modules(verbose=verbose)[c]\n\u001b[0;32m---> 40\u001b[0;31m                                for n, c in self.inputs]\n\u001b[0m\u001b[1;32m     41\u001b[0m             \u001b[0;32mtry\u001b[0m\u001b[0;34m:\u001b[0m\u001b[0;34m\u001b[0m\u001b[0m\n\u001b[1;32m     42\u001b[0m                 self.module = self.module_type(self.input_dims,\n",
      "\u001b[0;32m~/Workspace/FrEIA/FrEIA/framework.py\u001b[0m in \u001b[0;36m<listcomp>\u001b[0;34m(.0)\u001b[0m\n\u001b[1;32m     38\u001b[0m         \u001b[0;32mif\u001b[0m \u001b[0;32mnot\u001b[0m \u001b[0mself\u001b[0m\u001b[0;34m.\u001b[0m\u001b[0minput_dims\u001b[0m\u001b[0;34m:\u001b[0m  \u001b[0;31m# Only do it if this hasn't been computed yet\u001b[0m\u001b[0;34m\u001b[0m\u001b[0m\n\u001b[1;32m     39\u001b[0m             self.input_dims = [n.build_modules(verbose=verbose)[c]\n\u001b[0;32m---> 40\u001b[0;31m                                for n, c in self.inputs]\n\u001b[0m\u001b[1;32m     41\u001b[0m             \u001b[0;32mtry\u001b[0m\u001b[0;34m:\u001b[0m\u001b[0;34m\u001b[0m\u001b[0m\n\u001b[1;32m     42\u001b[0m                 self.module = self.module_type(self.input_dims,\n",
      "\u001b[0;32m~/Workspace/FrEIA/FrEIA/framework.py\u001b[0m in \u001b[0;36mbuild_modules\u001b[0;34m(self, verbose)\u001b[0m\n\u001b[1;32m     38\u001b[0m         \u001b[0;32mif\u001b[0m \u001b[0;32mnot\u001b[0m \u001b[0mself\u001b[0m\u001b[0;34m.\u001b[0m\u001b[0minput_dims\u001b[0m\u001b[0;34m:\u001b[0m  \u001b[0;31m# Only do it if this hasn't been computed yet\u001b[0m\u001b[0;34m\u001b[0m\u001b[0m\n\u001b[1;32m     39\u001b[0m             self.input_dims = [n.build_modules(verbose=verbose)[c]\n\u001b[0;32m---> 40\u001b[0;31m                                for n, c in self.inputs]\n\u001b[0m\u001b[1;32m     41\u001b[0m             \u001b[0;32mtry\u001b[0m\u001b[0;34m:\u001b[0m\u001b[0;34m\u001b[0m\u001b[0m\n\u001b[1;32m     42\u001b[0m                 self.module = self.module_type(self.input_dims,\n",
      "\u001b[0;32m~/Workspace/FrEIA/FrEIA/framework.py\u001b[0m in \u001b[0;36m<listcomp>\u001b[0;34m(.0)\u001b[0m\n\u001b[1;32m     38\u001b[0m         \u001b[0;32mif\u001b[0m \u001b[0;32mnot\u001b[0m \u001b[0mself\u001b[0m\u001b[0;34m.\u001b[0m\u001b[0minput_dims\u001b[0m\u001b[0;34m:\u001b[0m  \u001b[0;31m# Only do it if this hasn't been computed yet\u001b[0m\u001b[0;34m\u001b[0m\u001b[0m\n\u001b[1;32m     39\u001b[0m             self.input_dims = [n.build_modules(verbose=verbose)[c]\n\u001b[0;32m---> 40\u001b[0;31m                                for n, c in self.inputs]\n\u001b[0m\u001b[1;32m     41\u001b[0m             \u001b[0;32mtry\u001b[0m\u001b[0;34m:\u001b[0m\u001b[0;34m\u001b[0m\u001b[0m\n\u001b[1;32m     42\u001b[0m                 self.module = self.module_type(self.input_dims,\n",
      "\u001b[0;32m~/Workspace/FrEIA/FrEIA/framework.py\u001b[0m in \u001b[0;36mbuild_modules\u001b[0;34m(self, verbose)\u001b[0m\n\u001b[1;32m     38\u001b[0m         \u001b[0;32mif\u001b[0m \u001b[0;32mnot\u001b[0m \u001b[0mself\u001b[0m\u001b[0;34m.\u001b[0m\u001b[0minput_dims\u001b[0m\u001b[0;34m:\u001b[0m  \u001b[0;31m# Only do it if this hasn't been computed yet\u001b[0m\u001b[0;34m\u001b[0m\u001b[0m\n\u001b[1;32m     39\u001b[0m             self.input_dims = [n.build_modules(verbose=verbose)[c]\n\u001b[0;32m---> 40\u001b[0;31m                                for n, c in self.inputs]\n\u001b[0m\u001b[1;32m     41\u001b[0m             \u001b[0;32mtry\u001b[0m\u001b[0;34m:\u001b[0m\u001b[0;34m\u001b[0m\u001b[0m\n\u001b[1;32m     42\u001b[0m                 self.module = self.module_type(self.input_dims,\n",
      "\u001b[0;32m~/Workspace/FrEIA/FrEIA/framework.py\u001b[0m in \u001b[0;36m<listcomp>\u001b[0;34m(.0)\u001b[0m\n\u001b[1;32m     38\u001b[0m         \u001b[0;32mif\u001b[0m \u001b[0;32mnot\u001b[0m \u001b[0mself\u001b[0m\u001b[0;34m.\u001b[0m\u001b[0minput_dims\u001b[0m\u001b[0;34m:\u001b[0m  \u001b[0;31m# Only do it if this hasn't been computed yet\u001b[0m\u001b[0;34m\u001b[0m\u001b[0m\n\u001b[1;32m     39\u001b[0m             self.input_dims = [n.build_modules(verbose=verbose)[c]\n\u001b[0;32m---> 40\u001b[0;31m                                for n, c in self.inputs]\n\u001b[0m\u001b[1;32m     41\u001b[0m             \u001b[0;32mtry\u001b[0m\u001b[0;34m:\u001b[0m\u001b[0;34m\u001b[0m\u001b[0m\n\u001b[1;32m     42\u001b[0m                 self.module = self.module_type(self.input_dims,\n",
      "\u001b[0;32m~/Workspace/FrEIA/FrEIA/framework.py\u001b[0m in \u001b[0;36mbuild_modules\u001b[0;34m(self, verbose)\u001b[0m\n\u001b[1;32m     38\u001b[0m         \u001b[0;32mif\u001b[0m \u001b[0;32mnot\u001b[0m \u001b[0mself\u001b[0m\u001b[0;34m.\u001b[0m\u001b[0minput_dims\u001b[0m\u001b[0;34m:\u001b[0m  \u001b[0;31m# Only do it if this hasn't been computed yet\u001b[0m\u001b[0;34m\u001b[0m\u001b[0m\n\u001b[1;32m     39\u001b[0m             self.input_dims = [n.build_modules(verbose=verbose)[c]\n\u001b[0;32m---> 40\u001b[0;31m                                for n, c in self.inputs]\n\u001b[0m\u001b[1;32m     41\u001b[0m             \u001b[0;32mtry\u001b[0m\u001b[0;34m:\u001b[0m\u001b[0;34m\u001b[0m\u001b[0m\n\u001b[1;32m     42\u001b[0m                 self.module = self.module_type(self.input_dims,\n",
      "\u001b[0;32m~/Workspace/FrEIA/FrEIA/framework.py\u001b[0m in \u001b[0;36m<listcomp>\u001b[0;34m(.0)\u001b[0m\n\u001b[1;32m     38\u001b[0m         \u001b[0;32mif\u001b[0m \u001b[0;32mnot\u001b[0m \u001b[0mself\u001b[0m\u001b[0;34m.\u001b[0m\u001b[0minput_dims\u001b[0m\u001b[0;34m:\u001b[0m  \u001b[0;31m# Only do it if this hasn't been computed yet\u001b[0m\u001b[0;34m\u001b[0m\u001b[0m\n\u001b[1;32m     39\u001b[0m             self.input_dims = [n.build_modules(verbose=verbose)[c]\n\u001b[0;32m---> 40\u001b[0;31m                                for n, c in self.inputs]\n\u001b[0m\u001b[1;32m     41\u001b[0m             \u001b[0;32mtry\u001b[0m\u001b[0;34m:\u001b[0m\u001b[0;34m\u001b[0m\u001b[0m\n\u001b[1;32m     42\u001b[0m                 self.module = self.module_type(self.input_dims,\n",
      "\u001b[0;32m~/Workspace/FrEIA/FrEIA/framework.py\u001b[0m in \u001b[0;36mbuild_modules\u001b[0;34m(self, verbose)\u001b[0m\n\u001b[1;32m     38\u001b[0m         \u001b[0;32mif\u001b[0m \u001b[0;32mnot\u001b[0m \u001b[0mself\u001b[0m\u001b[0;34m.\u001b[0m\u001b[0minput_dims\u001b[0m\u001b[0;34m:\u001b[0m  \u001b[0;31m# Only do it if this hasn't been computed yet\u001b[0m\u001b[0;34m\u001b[0m\u001b[0m\n\u001b[1;32m     39\u001b[0m             self.input_dims = [n.build_modules(verbose=verbose)[c]\n\u001b[0;32m---> 40\u001b[0;31m                                for n, c in self.inputs]\n\u001b[0m\u001b[1;32m     41\u001b[0m             \u001b[0;32mtry\u001b[0m\u001b[0;34m:\u001b[0m\u001b[0;34m\u001b[0m\u001b[0m\n\u001b[1;32m     42\u001b[0m                 self.module = self.module_type(self.input_dims,\n",
      "\u001b[0;32m~/Workspace/FrEIA/FrEIA/framework.py\u001b[0m in \u001b[0;36m<listcomp>\u001b[0;34m(.0)\u001b[0m\n\u001b[1;32m     38\u001b[0m         \u001b[0;32mif\u001b[0m \u001b[0;32mnot\u001b[0m \u001b[0mself\u001b[0m\u001b[0;34m.\u001b[0m\u001b[0minput_dims\u001b[0m\u001b[0;34m:\u001b[0m  \u001b[0;31m# Only do it if this hasn't been computed yet\u001b[0m\u001b[0;34m\u001b[0m\u001b[0m\n\u001b[1;32m     39\u001b[0m             self.input_dims = [n.build_modules(verbose=verbose)[c]\n\u001b[0;32m---> 40\u001b[0;31m                                for n, c in self.inputs]\n\u001b[0m\u001b[1;32m     41\u001b[0m             \u001b[0;32mtry\u001b[0m\u001b[0;34m:\u001b[0m\u001b[0;34m\u001b[0m\u001b[0m\n\u001b[1;32m     42\u001b[0m                 self.module = self.module_type(self.input_dims,\n",
      "\u001b[0;32m~/Workspace/FrEIA/FrEIA/framework.py\u001b[0m in \u001b[0;36mbuild_modules\u001b[0;34m(self, verbose)\u001b[0m\n\u001b[1;32m     52\u001b[0m                 \u001b[0mprint\u001b[0m\u001b[0;34m(\u001b[0m\u001b[0;34m)\u001b[0m\u001b[0;34m\u001b[0m\u001b[0m\n\u001b[1;32m     53\u001b[0m \u001b[0;34m\u001b[0m\u001b[0m\n\u001b[0;32m---> 54\u001b[0;31m             \u001b[0mself\u001b[0m\u001b[0;34m.\u001b[0m\u001b[0moutput_dims\u001b[0m \u001b[0;34m=\u001b[0m \u001b[0mself\u001b[0m\u001b[0;34m.\u001b[0m\u001b[0mmodule\u001b[0m\u001b[0;34m.\u001b[0m\u001b[0moutput_dims\u001b[0m\u001b[0;34m(\u001b[0m\u001b[0mself\u001b[0m\u001b[0;34m.\u001b[0m\u001b[0minput_dims\u001b[0m\u001b[0;34m)\u001b[0m\u001b[0;34m\u001b[0m\u001b[0m\n\u001b[0m\u001b[1;32m     55\u001b[0m             \u001b[0mself\u001b[0m\u001b[0;34m.\u001b[0m\u001b[0mn_outputs\u001b[0m \u001b[0;34m=\u001b[0m \u001b[0mlen\u001b[0m\u001b[0;34m(\u001b[0m\u001b[0mself\u001b[0m\u001b[0;34m.\u001b[0m\u001b[0moutput_dims\u001b[0m\u001b[0;34m)\u001b[0m\u001b[0;34m\u001b[0m\u001b[0m\n\u001b[1;32m     56\u001b[0m \u001b[0;34m\u001b[0m\u001b[0m\n",
      "\u001b[0;32m~/Workspace/FrEIA/FrEIA/modules/reshapes.py\u001b[0m in \u001b[0;36moutput_dims\u001b[0;34m(self, input_dims)\u001b[0m\n\u001b[1;32m    149\u001b[0m         \u001b[0mc\u001b[0m\u001b[0;34m,\u001b[0m \u001b[0mw\u001b[0m\u001b[0;34m,\u001b[0m \u001b[0mh\u001b[0m \u001b[0;34m=\u001b[0m \u001b[0minput_dims\u001b[0m\u001b[0;34m[\u001b[0m\u001b[0;36m0\u001b[0m\u001b[0;34m]\u001b[0m\u001b[0;34m\u001b[0m\u001b[0m\n\u001b[1;32m    150\u001b[0m         \u001b[0mc2\u001b[0m\u001b[0;34m,\u001b[0m \u001b[0mw2\u001b[0m\u001b[0;34m,\u001b[0m \u001b[0mh2\u001b[0m \u001b[0;34m=\u001b[0m \u001b[0mc\u001b[0m\u001b[0;34m*\u001b[0m\u001b[0;36m4\u001b[0m\u001b[0;34m,\u001b[0m \u001b[0mw\u001b[0m\u001b[0;34m//\u001b[0m\u001b[0;36m2\u001b[0m\u001b[0;34m,\u001b[0m \u001b[0mh\u001b[0m\u001b[0;34m//\u001b[0m\u001b[0;36m2\u001b[0m\u001b[0;34m\u001b[0m\u001b[0m\n\u001b[0;32m--> 151\u001b[0;31m         \u001b[0;32massert\u001b[0m \u001b[0mc\u001b[0m\u001b[0;34m*\u001b[0m\u001b[0mh\u001b[0m\u001b[0;34m*\u001b[0m\u001b[0mw\u001b[0m \u001b[0;34m==\u001b[0m \u001b[0mc2\u001b[0m\u001b[0;34m*\u001b[0m\u001b[0mh2\u001b[0m\u001b[0;34m*\u001b[0m\u001b[0mw2\u001b[0m\u001b[0;34m,\u001b[0m \u001b[0;34m\"Uneven input dimensions\"\u001b[0m\u001b[0;34m\u001b[0m\u001b[0m\n\u001b[0m\u001b[1;32m    152\u001b[0m         \u001b[0;32mreturn\u001b[0m \u001b[0;34m[\u001b[0m\u001b[0;34m(\u001b[0m\u001b[0mc2\u001b[0m\u001b[0;34m,\u001b[0m \u001b[0mw2\u001b[0m\u001b[0;34m,\u001b[0m \u001b[0mh2\u001b[0m\u001b[0;34m)\u001b[0m\u001b[0;34m]\u001b[0m\u001b[0;34m\u001b[0m\u001b[0m\n\u001b[1;32m    153\u001b[0m \u001b[0;34m\u001b[0m\u001b[0m\n",
      "\u001b[0;31mAssertionError\u001b[0m: Uneven input dimensions"
     ]
    }
   ],
   "source": [
    "celeba_inn_model = INN.celeba_inn_com(1)\n",
    "print('min:', count.count_para(celeba_inn_model))\n",
    "\n",
    "celeba_inn_model = INN.celeba_inn_com(3*32*32)\n",
    "print('max:', count.count_para(celeba_inn_model))"
   ]
  },
  {
   "cell_type": "markdown",
   "metadata": {},
   "source": [
    "# Notiz\n",
    "\n",
    "MNIST INN Autoencoder: 471576 Parameter \n",
    "\n",
    "MNIST Autoencoder: 485137 Parameter (Minimum)\n",
    "                   586144 Parameter (Maximum)\n",
    "\n",
    "CIFAR INN Autoencoder: 118558416 Parameter\n",
    "\n",
    "CIFAR Autoencoder: 2904996 Parameter (Minimum)\n",
    "                   31210403 Parameter (Maximum)\n",
    "                   \n"
   ]
  },
  {
   "cell_type": "code",
   "execution_count": 12,
   "metadata": {},
   "outputs": [
    {
     "name": "stdout",
     "output_type": "stream",
     "text": [
      "286047\n"
     ]
    }
   ],
   "source": [
    "model = autoencoder(60)\n",
    "print(count.count_para(model))"
   ]
  },
  {
   "cell_type": "code",
   "execution_count": null,
   "metadata": {},
   "outputs": [],
   "source": [
    "117664104 (fully)\n",
    "42142056 (small)\n",
    "4393324 (min inn)\n",
    "42142056 (max inn)\n",
    "2904996 (min)\n",
    "31210403 (max)"
   ]
  },
  {
   "cell_type": "code",
   "execution_count": null,
   "metadata": {
    "collapsed": true
   },
   "outputs": [],
   "source": []
  }
 ],
 "metadata": {
  "kernelspec": {
   "display_name": "Python 3",
   "language": "python",
   "name": "python3"
  },
  "language_info": {
   "codemirror_mode": {
    "name": "ipython",
    "version": 3
   },
   "file_extension": ".py",
   "mimetype": "text/x-python",
   "name": "python",
   "nbconvert_exporter": "python",
   "pygments_lexer": "ipython3",
   "version": "3.6.5"
  }
 },
 "nbformat": 4,
 "nbformat_minor": 2
}
