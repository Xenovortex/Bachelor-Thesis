{
 "cells": [
  {
   "cell_type": "code",
   "execution_count": 1,
   "metadata": {},
   "outputs": [
    {
     "name": "stderr",
     "output_type": "stream",
     "text": [
      "/export/home/lardizzo/anaconda3/lib/python3.6/importlib/_bootstrap.py:219: RuntimeWarning: numpy.dtype size changed, may indicate binary incompatibility. Expected 96, got 88\n",
      "  return f(*args, **kwds)\n"
     ]
    }
   ],
   "source": [
    "import torch\n",
    "from functionalities import dataloader as dl\n",
    "from functionalities import tracker as tk\n",
    "from architecture import INN as inn\n",
    "from functionalities import CIFAR_coder_loss as cl\n",
    "from functionalities import trainer as tr\n",
    "from functionalities import filemanager as fm\n",
    "from functionalities import plot as pl\n",
    "from functionalities import gpu "
   ]
  },
  {
   "cell_type": "code",
   "execution_count": null,
   "metadata": {
    "collapsed": true
   },
   "outputs": [],
   "source": [
    "num_epoch = 20\n",
    "batch_size = 128\n",
    "#latent_dim_lst = [2 ** x for x in range(14)]\n",
    "latent_dim = 300\n",
    "number_dev = 4\n",
    "lr_init = 1e-3\n",
    "l2_reg  = 1e-6\n",
    "milestones = [50, 70, 80]\n",
    "modelname = 'celeba_INN_glow_test'\n",
    "get_model = inn.celeba_inn_glow\n",
    "image_size = 128\n",
    "\n",
    "device = gpu.get_device(number_dev)"
   ]
  },
  {
   "cell_type": "code",
   "execution_count": null,
   "metadata": {
    "collapsed": true
   },
   "outputs": [],
   "source": [
    "IMAGE_PATH = './img_align_celeba/'\n",
    "transform = transforms.Compose([\n",
    "    #transforms.Scale(image_size),\n",
    "    transforms.Resize(image_size),\n",
    "    transforms.ToTensor(),\n",
    "    #transforms.Normalize((0.5, 0.5, 0.5), (0.5, 0.5, 0.5))\n",
    "])\n",
    "dataset = ImageFolder(IMAGE_PATH, transform)\n",
    "trainloader, testloader = dl.split_dataset(dataset, 0.2, batch_size, False)"
   ]
  },
  {
   "cell_type": "code",
   "execution_count": null,
   "metadata": {
    "collapsed": true
   },
   "outputs": [],
   "source": [
    "model, model_params, track, MMD_loss = tr.init_model(get_model, latent_dim, 'l1', device)\n",
    "optimizer, scheduler = tr.init_training(model_params, lr_init, l2_reg, milestones)"
   ]
  },
  {
   "cell_type": "code",
   "execution_count": null,
   "metadata": {
    "collapsed": true
   },
   "outputs": [],
   "source": [
    "model = tr.train(num_epoch, model, modelname, MMD_loss, optimizer, scheduler, latent_dim, trainloader, None, testloader, track, device)"
   ]
  },
  {
   "cell_type": "code",
   "execution_count": null,
   "metadata": {
    "collapsed": true
   },
   "outputs": [],
   "source": []
  }
 ],
 "metadata": {
  "kernelspec": {
   "display_name": "Python 3",
   "language": "python",
   "name": "python3"
  },
  "language_info": {
   "codemirror_mode": {
    "name": "ipython",
    "version": 3
   },
   "file_extension": ".py",
   "mimetype": "text/x-python",
   "name": "python",
   "nbconvert_exporter": "python",
   "pygments_lexer": "ipython3",
   "version": "3.6.5"
  }
 },
 "nbformat": 4,
 "nbformat_minor": 2
}
